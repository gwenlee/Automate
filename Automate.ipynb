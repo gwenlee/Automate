{
 "metadata": {
  "language_info": {
   "codemirror_mode": {
    "name": "ipython",
    "version": 3
   },
   "file_extension": ".py",
   "mimetype": "text/x-python",
   "name": "python",
   "nbconvert_exporter": "python",
   "pygments_lexer": "ipython3",
   "version": "3.7.9"
  },
  "orig_nbformat": 4,
  "kernelspec": {
   "name": "python3",
   "display_name": "Python 3.7.9 64-bit"
  },
  "interpreter": {
   "hash": "bcae2dcc7e016b9dcd7975f679a2c70a36629255303d999ed87ac766fb3ba1b4"
  }
 },
 "nbformat": 4,
 "nbformat_minor": 2,
 "cells": [
  {
   "cell_type": "code",
   "execution_count": 2,
   "source": [
    "#Comment: Highly recommend to use Jupyter Notebook to run Python scripts. Author is using VScode for editor.\r\n",
    "#Comment: Check if your dependencies are updated -\r\n",
    "#   Installation error: You can type \"python -c \"import sys; print('\\n'.join(sys.path))\" for checking the default PTYHONPATH. Or check if your environmental variable has the path.\r\n",
    "#   Editor may not recognise your packages on your virtual environment (Default Python:selector on Command Ctrl+Shift+P): https://code.visualstudio.com/docs/python/environments \r\n",
    "from os import path\r\n",
    "import pandas as pd\r\n",
    "import xlrd\r\n",
    "import openpyxl\r\n",
    "\r\n",
    "class ImportFiles:\r\n",
    "    def __init__(self, pathname, file):\r\n",
    "        self.pathname = pathname\r\n",
    "        self.file = file\r\n",
    "\r\n",
    "    #?path.exists() returns Boolean\r\n",
    "    #?Python doesn't accept Boolean + String combination fyi\r\n",
    "    #?Do you know the cost of IF vs TRY/EXCEPT?\r\n",
    "    #?Run multiple TRY/EXCEPT?\r\n",
    "    #Comment: Make sure you set your directory to the path where all files are stored\r\n",
    "    #Originally we had a seperate function os.path.exists but this returns TRUE/FALSE which does not raise an error in TRY/Except\r\n",
    "    def import_excel(self):\r\n",
    "        full_path = os.path.join(self.pathname,self.file)\r\n",
    "        try:\r\n",
    "            df = pd.read_csv(full_path)\r\n",
    "            return df\r\n",
    "        except:\r\n",
    "            try:\r\n",
    "                df = pd.read_excel(full_path)\r\n",
    "                return df\r\n",
    "            except OSError:\r\n",
    "                \r\n",
    "                #Comment: Python version needs to be higher than 3.6 to use f-string\r\n",
    "                print(f\"Operating system raised an error: check if the file {full_path} exsits or the name is correct. Check your path that contains this file.\")\r\n",
    "\r\n",
    "\r\n",
    "       "
   ],
   "outputs": [],
   "metadata": {}
  },
  {
   "cell_type": "code",
   "execution_count": 5,
   "source": [
    "\r\n",
    "#?filter() function : https://www.programiz.com/python-programming/methods/built-in/filter\r\n",
    "#?lamda() function\r\n",
    "#if __name__ == \"__main__\":\r\n",
    "    \r\n",
    "#Comment: Enter the path and the file name below. \r\n",
    "Stripe_table = ImportFiles(\"C:/Users/glee3/Downloads\", \"transfers.csv\")\r\n",
    "Funraisin_table = ImportFiles(\"C:/Users/glee3/Downloads\", \"R-Stripe-Gwen--1630042067.csv\")\r\n",
    "Grassrootz_table = ImportFiles(\"C:/Users/glee3/Downloads\",\"exportDonations.csv\")\r\n",
    "Tiltify_table = ImportFiles(\"C:/Users/glee3/Downloads\", \"tiltify.xlsx\")\r\n",
    "    \r\n",
    "\r\n",
    "#Comment: Check if all your files are valid to import\r\n",
    "Stripe = Stripe_table.import_excel()\r\n",
    "Funraisin = Funraisin_table.import_excel()\r\n",
    "Grassrootz = Grassrootz_table.import_excel()\r\n",
    "Tiltify = Tiltify_table.import_excel()\r\n",
    "\r\n",
    "    #?Concat() vs Merge() vs Join()\r\n",
    "data_dummy1 = pd.merge(Stripe, Funraisin[])\r\n",
    "#data =Stripe.merge(Funraisin,left_on='ID',right_on='Stripe Payment Reference', how='left')\r\n",
    "#data_dummy2 = data_dummy1.merge(Grassrootz,left_on='ID',right_on='Stripe Payment Reference', how='left')\r\n",
    "    \r\n",
    "    #?Subset of Dataframe in Pandas : https://pandas.pydata.org/pandas-docs/stable/getting_started/intro_tutorials/03_subset_data.html\r\n",
    "    # #?Count methods: len(df.index) vs df.shape[0] vs df[df.columns[0]].count(): https://stackoverflow.com/questions/15943769/how-do-i-get-the-row-count-of-a-pandas-dataframe\r\n",
    "#Count_charge = len(data.index[data.Type=='Charge'])\r\n",
    "#Gross_charge = round(sum(data.Amount_x[data.Type=='Charge']),2)\r\n",
    "#print(f\"There are {Count_charge} Charges. Gross amount shows {Gross_charge} - has it been matched?\")\r\n",
    "\r\n"
   ],
   "outputs": [
    {
     "output_type": "stream",
     "name": "stdout",
     "text": [
      "There are 314 Charges. Gross amount shows 15393.99 - has it been matched?\n"
     ]
    }
   ],
   "metadata": {}
  },
  {
   "cell_type": "code",
   "execution_count": 8,
   "source": [],
   "outputs": [
    {
     "output_type": "stream",
     "name": "stdout",
     "text": [
      "0        5.2\n",
      "1       52.0\n",
      "2       15.6\n",
      "3       20.8\n",
      "4       26.0\n",
      "       ...  \n",
      "489    104.0\n",
      "490     26.0\n",
      "491     36.4\n",
      "492     52.0\n",
      "493     52.0\n",
      "Name: Amount, Length: 494, dtype: float64\n"
     ]
    }
   ],
   "metadata": {}
  }
 ]
}